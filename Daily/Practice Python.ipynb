{
 "cells": [
  {
   "cell_type": "code",
   "execution_count": 7,
   "metadata": {},
   "outputs": [
    {
     "name": "stdout",
     "output_type": "stream",
     "text": [
      "What is your name? Anika\n",
      "How old are you? 21\n",
      "Anika, you will turn 100 in the year 2098\n"
     ]
    }
   ],
   "source": [
    "'''Create a program that asks the user to enter their name and \n",
    "their age. Print out a message addressed to them that tells them \n",
    "the year that they will turn 100 years old.'''\n",
    "\n",
    "import datetime\n",
    "\n",
    "def one_hundred():\n",
    "    name = input('What is your name? ')\n",
    "    age = input('How old are you? ')\n",
    "    age = int(age)\n",
    "    now = datetime.datetime.now()\n",
    "    print(f'{name}, you will turn 100 in the year {now.year - age + 100}.')\n",
    "\n",
    "one_hundred()"
   ]
  },
  {
   "cell_type": "code",
   "execution_count": 14,
   "metadata": {},
   "outputs": [
    {
     "name": "stdout",
     "output_type": "stream",
     "text": [
      "Give me a number: 25\n",
      "This is an odd number!\n"
     ]
    }
   ],
   "source": [
    "'''Ask the user for a number. Depending on whether the number is even\n",
    "or odd, print out an appropriate message to the user. Hint: how does\n",
    "an even / odd number react differently when divided by 2?\n",
    "If the number is a multiple of 4, print out a different message.'''\n",
    "\n",
    "def even_or_odd():\n",
    "    number = input('Give me a number: ')\n",
    "    number1 = str(int(number) / 4)\n",
    "    number2 = int(number) % 2\n",
    "    if number1.endswith('.0'):\n",
    "        print('This number is divisible by 4! Yay!')\n",
    "    elif number2 == 0:\n",
    "        print('This is an even number!')\n",
    "    else:\n",
    "        print('This is an odd number!')\n",
    "        \n",
    "even_or_odd()"
   ]
  },
  {
   "cell_type": "code",
   "execution_count": 15,
   "metadata": {},
   "outputs": [
    {
     "name": "stdout",
     "output_type": "stream",
     "text": [
      "What number are we dividing? 20\n",
      "What are we dividing it by? 5\n",
      "5 divides evenly into 20\n"
     ]
    }
   ],
   "source": [
    "'''Ask the user for two numbers: one number to check (call it num) \n",
    "and one number to divide by (check). If check divides evenly into \n",
    "num, tell that to the user. If not, print a different appropriate \n",
    "message.'''\n",
    "\n",
    "def divisible():\n",
    "    num = input('What number are we dividing? ')\n",
    "    check = input('What are we dividing it by? ')\n",
    "    divide = str(int(num) / int(check))\n",
    "    if divide.endswith('.0'):\n",
    "        print(f'{check} divides evenly into {num}!')\n",
    "    else:\n",
    "        print(f'{check} does not divide evenly into {num}.')\n",
    "        \n",
    "divisible()"
   ]
  },
  {
   "cell_type": "code",
   "execution_count": 16,
   "metadata": {},
   "outputs": [
    {
     "data": {
      "text/plain": [
       "[1, 1, 2, 3]"
      ]
     },
     "execution_count": 16,
     "metadata": {},
     "output_type": "execute_result"
    }
   ],
   "source": [
    "'''Take a list, say for example this one: and write a program that\n",
    "prints out all the elements of the list that are less than 5.'''\n",
    "\n",
    "a = [1, 1, 2, 3, 5, 8, 13, 21, 34, 55, 89]\n",
    "\n",
    "def less_than_five(list):\n",
    "    final = []\n",
    "    for item in list:\n",
    "        if int(item) < 5:\n",
    "            final.append(item)\n",
    "    return final\n",
    "\n",
    "less_than_five(a)"
   ]
  },
  {
   "cell_type": "code",
   "execution_count": 22,
   "metadata": {},
   "outputs": [
    {
     "name": "stdout",
     "output_type": "stream",
     "text": [
      "Give me a number: 100\n"
     ]
    },
    {
     "data": {
      "text/plain": [
       "[100.0, 50.0, 25.0, 20.0, 10.0, 5.0, 4.0, 2.0]"
      ]
     },
     "execution_count": 22,
     "metadata": {},
     "output_type": "execute_result"
    }
   ],
   "source": [
    "'''Create a program that asks the user for a number and then prints \n",
    "out a list of all the divisors of that number. (If you don’t know what \n",
    "a divisor is, it is a number that divides evenly into another number. \n",
    "For example, 13 is a divisor of 26 because 26 / 13 has no remainder.)'''\n",
    "\n",
    "def all_divisors():\n",
    "    number = input('Give me a number: ')\n",
    "    number = int(number)\n",
    "    divisors = []\n",
    "    n = 1\n",
    "    while n < number:\n",
    "        divide = str(int(number) / int(n))\n",
    "        n = n + 1\n",
    "        if divide.endswith('.0'):\n",
    "            divisors.append(float(divide))\n",
    "    return divisors\n",
    "    \n",
    "all_divisors()        "
   ]
  },
  {
   "cell_type": "code",
   "execution_count": 26,
   "metadata": {},
   "outputs": [
    {
     "data": {
      "text/plain": [
       "{1, 2, 3, 5, 8, 13}"
      ]
     },
     "execution_count": 26,
     "metadata": {},
     "output_type": "execute_result"
    }
   ],
   "source": [
    "'''Take two lists, say for example these two: and write a program that \n",
    "returns a list that contains only the elements that are common between \n",
    "the lists (without duplicates). Make sure your program works on two \n",
    "lists of different sizes.'''\n",
    "\n",
    "a = [1, 1, 2, 3, 5, 8, 13, 21, 34, 55, 89]\n",
    "b = [1, 2, 3, 4, 5, 6, 7, 8, 9, 10, 11, 12, 13]\n",
    "\n",
    "def common_elements(list1, list2):\n",
    "    common = []\n",
    "    for item in list1:\n",
    "        if item in(list2):\n",
    "            common.append(item)\n",
    "    return set(common)\n",
    "\n",
    "common_elements(a, b)"
   ]
  },
  {
   "cell_type": "code",
   "execution_count": null,
   "metadata": {},
   "outputs": [],
   "source": []
  }
 ],
 "metadata": {
  "kernelspec": {
   "display_name": "Python 3",
   "language": "python",
   "name": "python3"
  },
  "language_info": {
   "codemirror_mode": {
    "name": "ipython",
    "version": 3
   },
   "file_extension": ".py",
   "mimetype": "text/x-python",
   "name": "python",
   "nbconvert_exporter": "python",
   "pygments_lexer": "ipython3",
   "version": "3.7.4"
  }
 },
 "nbformat": 4,
 "nbformat_minor": 2
}
